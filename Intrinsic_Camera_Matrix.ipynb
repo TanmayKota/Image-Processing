{
 "cells": [
  {
   "cell_type": "code",
   "execution_count": 2,
   "metadata": {},
   "outputs": [],
   "source": [
    "import numpy as np\n",
    "import cv2\n",
    "import matplotlib.pyplot as plt\n",
    "import math\n",
    "import glob"
   ]
  },
  {
   "attachments": {},
   "cell_type": "markdown",
   "metadata": {},
   "source": [
    "### Camera intrinsic calibration "
   ]
  },
  {
   "cell_type": "code",
   "execution_count": 3,
   "metadata": {},
   "outputs": [
    {
     "name": "stdout",
     "output_type": "stream",
     "text": [
      " Camera matrix:\n",
      "[[1.79263601e+03 0.00000000e+00 1.03144347e+03]\n",
      " [0.00000000e+00 1.79364092e+03 3.86889334e+02]\n",
      " [0.00000000e+00 0.00000000e+00 1.00000000e+00]]\n"
     ]
    }
   ],
   "source": [
    "CHECKERBOARD = (8,6)                                                                            # Represents the number of corners of the intersection points between 2 black squares and 2 white squares on the chess board\n",
    " \n",
    "# stop the iteration when specified\n",
    "# accuracy, epsilon, is reached or\n",
    "# specified number of iterations are completed.\n",
    "criteria = (cv2.TERM_CRITERIA_EPS + cv2.TERM_CRITERIA_MAX_ITER, 30, 0.001)\n",
    "threedpoints = []                                                                               # Initialising Vector for 3D points\n",
    "twodpoints = []                                                                                 # Initialising Vector for 2D points\n",
    " \n",
    "#  3D points real world coordinates\n",
    "objectp3d = np.zeros((1, CHECKERBOARD[0] * CHECKERBOARD[1],3), np.float32)\n",
    "objectp3d[0, :, :2] = np.mgrid[0:CHECKERBOARD[0], 0:CHECKERBOARD[1]].T.reshape(-1, 2)\n",
    "prev_img_shape = None\n",
    " \n",
    "# Extracting path of individual image stored\n",
    "# in a given directory. Since no path is\n",
    "# specified, it will take current directory\n",
    "# jpg files alone\n",
    "images = glob.glob('./data/Task_05/*.jpg')\n",
    " \n",
    "for filename in images:\n",
    "    image = cv2.imread(filename)\n",
    "    grayColor = cv2.cvtColor(image, cv2.COLOR_BGR2GRAY)\n",
    " \n",
    "    # Find the chess board corners\n",
    "    # If desired number of corners are\n",
    "    # found in the image then ret = true\n",
    "    ret, corners = cv2.findChessboardCorners(grayColor, CHECKERBOARD,cv2.CALIB_CB_ADAPTIVE_THRESH+ cv2.CALIB_CB_FAST_CHECK +cv2.CALIB_CB_NORMALIZE_IMAGE)\n",
    "\n",
    "    # If desired number of corners can be detected then,\n",
    "    # refine the pixel coordinates and display\n",
    "    # them on the images of checker board\n",
    "    if ret == True:\n",
    "        threedpoints.append(objectp3d)\n",
    " \n",
    "        # Refining pixel coordinates\n",
    "        # for given 2d points.\n",
    "        corners2 = cv2.cornerSubPix(grayColor, corners, (11, 11), (-1, -1), criteria)\n",
    " \n",
    "        twodpoints.append(corners2)\n",
    " \n",
    "        # Draw and display the corners\n",
    "        image = cv2.drawChessboardCorners(image, CHECKERBOARD,corners2, ret)\n",
    " \n",
    "    # cv2.imshow('img', image)\n",
    "    cv2.waitKey(0)\n",
    " \n",
    "cv2.destroyAllWindows()\n",
    " \n",
    "h, w = image.shape[:2]\n",
    " \n",
    " \n",
    "# Perform camera calibration by\n",
    "# passing the value of above found out 3D points (threedpoints)\n",
    "# and its corresponding pixel coordinates of the\n",
    "# detected corners (twodpoints)\n",
    "ret, matrix, distortion, r_vecs, t_vecs = cv2.calibrateCamera(threedpoints, twodpoints, grayColor.shape[::-1], None, None)\n",
    " \n",
    " \n",
    "# Displaying required output\n",
    "print(\" Camera matrix:\")\n",
    "print(matrix)\n"
   ]
  }
 ],
 "metadata": {
  "kernelspec": {
   "display_name": "base",
   "language": "python",
   "name": "python3"
  },
  "language_info": {
   "codemirror_mode": {
    "name": "ipython",
    "version": 3
   },
   "file_extension": ".py",
   "mimetype": "text/x-python",
   "name": "python",
   "nbconvert_exporter": "python",
   "pygments_lexer": "ipython3",
   "version": "3.9.13"
  },
  "orig_nbformat": 4,
  "vscode": {
   "interpreter": {
    "hash": "cdad8b85f771338c628faa3bca1292828f3256852ec7e8c76494f82205a023ad"
   }
  }
 },
 "nbformat": 4,
 "nbformat_minor": 2
}
